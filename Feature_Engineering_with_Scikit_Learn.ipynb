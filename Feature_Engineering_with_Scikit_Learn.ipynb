{
  "nbformat": 4,
  "nbformat_minor": 0,
  "metadata": {
    "colab": {
      "name": "Feature_Engineering_with_Scikit_Learn.ipynb",
      "provenance": []
    },
    "kernelspec": {
      "display_name": "Python 3",
      "language": "python",
      "name": "python3"
    },
    "language_info": {
      "codemirror_mode": {
        "name": "ipython",
        "version": 3
      },
      "file_extension": ".py",
      "mimetype": "text/x-python",
      "name": "python",
      "nbconvert_exporter": "python",
      "pygments_lexer": "ipython3",
      "version": "3.7.6"
    }
  },
  "cells": [
    {
      "cell_type": "markdown",
      "metadata": {
        "colab_type": "text",
        "id": "2bwH96hViwS7"
      },
      "source": [
        "#### Copyright 2020 Catalit LLC."
      ]
    },
    {
      "cell_type": "code",
      "metadata": {
        "colab_type": "code",
        "id": "bFidPKNdkVPg",
        "colab": {}
      },
      "source": [
        "# Licensed under the Apache License, Version 2.0 (the \"License\");\n",
        "# you may not use this file except in compliance with the License.\n",
        "# You may obtain a copy of the License at\n",
        "#\n",
        "# https://www.apache.org/licenses/LICENSE-2.0\n",
        "#\n",
        "# Unless required by applicable law or agreed to in writing, software\n",
        "# distributed under the License is distributed on an \"AS IS\" BASIS,\n",
        "# WITHOUT WARRANTIES OR CONDITIONS OF ANY KIND, either express or implied.\n",
        "# See the License for the specific language governing permissions and\n",
        "# limitations under the License."
      ],
      "execution_count": null,
      "outputs": []
    },
    {
      "cell_type": "markdown",
      "metadata": {
        "colab_type": "text",
        "id": "DvoukA2tkGV4"
      },
      "source": [
        "# Feature Engineering with Scikit Learn"
      ]
    },
    {
      "cell_type": "code",
      "metadata": {
        "colab_type": "code",
        "id": "xkddBIZVmDC3",
        "colab": {
          "base_uri": "https://localhost:8080/",
          "height": 72
        },
        "outputId": "16eff7b6-c432-48b2-a523-05da32f73301"
      },
      "source": [
        "import numpy as np\n",
        "import pandas as pd\n",
        "import matplotlib.pyplot as plt\n",
        "import seaborn as sns"
      ],
      "execution_count": 1,
      "outputs": [
        {
          "output_type": "stream",
          "text": [
            "/usr/local/lib/python3.6/dist-packages/statsmodels/tools/_testing.py:19: FutureWarning: pandas.util.testing is deprecated. Use the functions in the public API at pandas.testing instead.\n",
            "  import pandas.util.testing as tm\n"
          ],
          "name": "stderr"
        }
      ]
    },
    {
      "cell_type": "code",
      "metadata": {
        "colab_type": "code",
        "id": "3UEXlWZSt0Ws",
        "colab": {}
      },
      "source": [
        "url = 'https://raw.githubusercontent.com/zerotodeeplearning/ztdl-masterclasses/master/data/'"
      ],
      "execution_count": 2,
      "outputs": []
    },
    {
      "cell_type": "code",
      "metadata": {
        "colab_type": "code",
        "id": "UyHT2V_2ty-L",
        "colab": {
          "base_uri": "https://localhost:8080/",
          "height": 197
        },
        "outputId": "6d48c5bd-1b4b-4a0c-dd92-1f81cfcc1643"
      },
      "source": [
        "df = pd.read_csv(url + 'titanic-train.csv')\n",
        "df.head()"
      ],
      "execution_count": 3,
      "outputs": [
        {
          "output_type": "execute_result",
          "data": {
            "text/html": [
              "<div>\n",
              "<style scoped>\n",
              "    .dataframe tbody tr th:only-of-type {\n",
              "        vertical-align: middle;\n",
              "    }\n",
              "\n",
              "    .dataframe tbody tr th {\n",
              "        vertical-align: top;\n",
              "    }\n",
              "\n",
              "    .dataframe thead th {\n",
              "        text-align: right;\n",
              "    }\n",
              "</style>\n",
              "<table border=\"1\" class=\"dataframe\">\n",
              "  <thead>\n",
              "    <tr style=\"text-align: right;\">\n",
              "      <th></th>\n",
              "      <th>PassengerId</th>\n",
              "      <th>Survived</th>\n",
              "      <th>Pclass</th>\n",
              "      <th>Name</th>\n",
              "      <th>Sex</th>\n",
              "      <th>Age</th>\n",
              "      <th>SibSp</th>\n",
              "      <th>Parch</th>\n",
              "      <th>Ticket</th>\n",
              "      <th>Fare</th>\n",
              "      <th>Cabin</th>\n",
              "      <th>Embarked</th>\n",
              "    </tr>\n",
              "  </thead>\n",
              "  <tbody>\n",
              "    <tr>\n",
              "      <th>0</th>\n",
              "      <td>1</td>\n",
              "      <td>0</td>\n",
              "      <td>3</td>\n",
              "      <td>Braund, Mr. Owen Harris</td>\n",
              "      <td>male</td>\n",
              "      <td>22.0</td>\n",
              "      <td>1</td>\n",
              "      <td>0</td>\n",
              "      <td>A/5 21171</td>\n",
              "      <td>7.2500</td>\n",
              "      <td>NaN</td>\n",
              "      <td>S</td>\n",
              "    </tr>\n",
              "    <tr>\n",
              "      <th>1</th>\n",
              "      <td>2</td>\n",
              "      <td>1</td>\n",
              "      <td>1</td>\n",
              "      <td>Cumings, Mrs. John Bradley (Florence Briggs Th...</td>\n",
              "      <td>female</td>\n",
              "      <td>38.0</td>\n",
              "      <td>1</td>\n",
              "      <td>0</td>\n",
              "      <td>PC 17599</td>\n",
              "      <td>71.2833</td>\n",
              "      <td>C85</td>\n",
              "      <td>C</td>\n",
              "    </tr>\n",
              "    <tr>\n",
              "      <th>2</th>\n",
              "      <td>3</td>\n",
              "      <td>1</td>\n",
              "      <td>3</td>\n",
              "      <td>Heikkinen, Miss. Laina</td>\n",
              "      <td>female</td>\n",
              "      <td>26.0</td>\n",
              "      <td>0</td>\n",
              "      <td>0</td>\n",
              "      <td>STON/O2. 3101282</td>\n",
              "      <td>7.9250</td>\n",
              "      <td>NaN</td>\n",
              "      <td>S</td>\n",
              "    </tr>\n",
              "    <tr>\n",
              "      <th>3</th>\n",
              "      <td>4</td>\n",
              "      <td>1</td>\n",
              "      <td>1</td>\n",
              "      <td>Futrelle, Mrs. Jacques Heath (Lily May Peel)</td>\n",
              "      <td>female</td>\n",
              "      <td>35.0</td>\n",
              "      <td>1</td>\n",
              "      <td>0</td>\n",
              "      <td>113803</td>\n",
              "      <td>53.1000</td>\n",
              "      <td>C123</td>\n",
              "      <td>S</td>\n",
              "    </tr>\n",
              "    <tr>\n",
              "      <th>4</th>\n",
              "      <td>5</td>\n",
              "      <td>0</td>\n",
              "      <td>3</td>\n",
              "      <td>Allen, Mr. William Henry</td>\n",
              "      <td>male</td>\n",
              "      <td>35.0</td>\n",
              "      <td>0</td>\n",
              "      <td>0</td>\n",
              "      <td>373450</td>\n",
              "      <td>8.0500</td>\n",
              "      <td>NaN</td>\n",
              "      <td>S</td>\n",
              "    </tr>\n",
              "  </tbody>\n",
              "</table>\n",
              "</div>"
            ],
            "text/plain": [
              "   PassengerId  Survived  Pclass  ...     Fare Cabin  Embarked\n",
              "0            1         0       3  ...   7.2500   NaN         S\n",
              "1            2         1       1  ...  71.2833   C85         C\n",
              "2            3         1       3  ...   7.9250   NaN         S\n",
              "3            4         1       1  ...  53.1000  C123         S\n",
              "4            5         0       3  ...   8.0500   NaN         S\n",
              "\n",
              "[5 rows x 12 columns]"
            ]
          },
          "metadata": {
            "tags": []
          },
          "execution_count": 3
        }
      ]
    },
    {
      "cell_type": "code",
      "metadata": {
        "colab_type": "code",
        "id": "blP4VdkRWZhu",
        "colab": {
          "base_uri": "https://localhost:8080/",
          "height": 354
        },
        "outputId": "0b3182bb-aeae-40e4-8c0b-d29a6ef4b0ae"
      },
      "source": [
        "df.info()"
      ],
      "execution_count": 4,
      "outputs": [
        {
          "output_type": "stream",
          "text": [
            "<class 'pandas.core.frame.DataFrame'>\n",
            "RangeIndex: 891 entries, 0 to 890\n",
            "Data columns (total 12 columns):\n",
            " #   Column       Non-Null Count  Dtype  \n",
            "---  ------       --------------  -----  \n",
            " 0   PassengerId  891 non-null    int64  \n",
            " 1   Survived     891 non-null    int64  \n",
            " 2   Pclass       891 non-null    int64  \n",
            " 3   Name         891 non-null    object \n",
            " 4   Sex          891 non-null    object \n",
            " 5   Age          714 non-null    float64\n",
            " 6   SibSp        891 non-null    int64  \n",
            " 7   Parch        891 non-null    int64  \n",
            " 8   Ticket       891 non-null    object \n",
            " 9   Fare         891 non-null    float64\n",
            " 10  Cabin        204 non-null    object \n",
            " 11  Embarked     889 non-null    object \n",
            "dtypes: float64(2), int64(5), object(5)\n",
            "memory usage: 83.7+ KB\n"
          ],
          "name": "stdout"
        }
      ]
    },
    {
      "cell_type": "markdown",
      "metadata": {
        "colab_type": "text",
        "id": "wEvAbjscX4xI"
      },
      "source": [
        "### Feature inspection\n"
      ]
    },
    {
      "cell_type": "code",
      "metadata": {
        "colab_type": "code",
        "id": "abBEwQsVWoqE",
        "colab": {
          "base_uri": "https://localhost:8080/",
          "height": 247
        },
        "outputId": "709d1287-56f4-4ec5-b3f3-5e13c6f405e4"
      },
      "source": [
        "df.isna().sum()"
      ],
      "execution_count": 5,
      "outputs": [
        {
          "output_type": "execute_result",
          "data": {
            "text/plain": [
              "PassengerId      0\n",
              "Survived         0\n",
              "Pclass           0\n",
              "Name             0\n",
              "Sex              0\n",
              "Age            177\n",
              "SibSp            0\n",
              "Parch            0\n",
              "Ticket           0\n",
              "Fare             0\n",
              "Cabin          687\n",
              "Embarked         2\n",
              "dtype: int64"
            ]
          },
          "metadata": {
            "tags": []
          },
          "execution_count": 5
        }
      ]
    },
    {
      "cell_type": "code",
      "metadata": {
        "colab_type": "code",
        "id": "i30-z6WVXzK8",
        "colab": {
          "base_uri": "https://localhost:8080/",
          "height": 123
        },
        "outputId": "5aac74cc-633f-49a3-8a21-d69938580b99"
      },
      "source": [
        "df.select_dtypes('O').apply(lambda x:len(x.unique()), axis=0)"
      ],
      "execution_count": 6,
      "outputs": [
        {
          "output_type": "execute_result",
          "data": {
            "text/plain": [
              "Name        891\n",
              "Sex           2\n",
              "Ticket      681\n",
              "Cabin       148\n",
              "Embarked      4\n",
              "dtype: int64"
            ]
          },
          "metadata": {
            "tags": []
          },
          "execution_count": 6
        }
      ]
    },
    {
      "cell_type": "code",
      "metadata": {
        "colab_type": "code",
        "id": "WhGfaygme3mv",
        "colab": {
          "base_uri": "https://localhost:8080/",
          "height": 441
        },
        "outputId": "e1ae0095-8588-415b-c8c8-ddca2a7183df"
      },
      "source": [
        "plt.figure(figsize=(10, 6))\n",
        "i = 1\n",
        "for c in df.select_dtypes('number').columns:\n",
        "  plt.subplot(3, 3, i)\n",
        "  df[c].plot.hist()\n",
        "  plt.title(c)\n",
        "  i = i+1\n",
        "\n",
        "plt.tight_layout()"
      ],
      "execution_count": 7,
      "outputs": [
        {
          "output_type": "display_data",
          "data": {
            "image/png": "[encoded data removed]",
            "text/plain": [
              "<Figure size 720x432 with 7 Axes>"
            ]
          },
          "metadata": {
            "tags": [],
            "needs_background": "light"
          }
        }
      ]
    },
    {
      "cell_type": "markdown",
      "metadata": {
        "colab_type": "text",
        "id": "1fYer-b3YVQV"
      },
      "source": [
        "Missing data:\n",
        "- drop `'PassengerId', 'Name', 'Cabin', 'Ticket'`\n",
        "- drop 2 rows with missing Embarked\n",
        "- impute missing `Age` values with mean"
      ]
    },
    {
      "cell_type": "code",
      "metadata": {
        "colab_type": "code",
        "id": "tGqaiQLlee4s",
        "colab": {}
      },
      "source": [
        "df1 = df.drop(['PassengerId', 'Name', 'Cabin', 'Ticket'], axis=1)"
      ],
      "execution_count": 8,
      "outputs": []
    },
    {
      "cell_type": "code",
      "metadata": {
        "colab_type": "code",
        "id": "X1yycEt6ef-n",
        "colab": {}
      },
      "source": [
        "df1 = df1.dropna(subset=['Embarked'])"
      ],
      "execution_count": 9,
      "outputs": []
    },
    {
      "cell_type": "code",
      "metadata": {
        "colab_type": "code",
        "id": "O1CJF6mAacNZ",
        "colab": {}
      },
      "source": [
        "df1['Age'] = df1['Age'].fillna(df1['Age'].mean())"
      ],
      "execution_count": 10,
      "outputs": []
    },
    {
      "cell_type": "markdown",
      "metadata": {
        "colab_type": "text",
        "id": "7GuxFGLYgCBw"
      },
      "source": [
        "#### Scalers"
      ]
    },
    {
      "cell_type": "markdown",
      "metadata": {
        "colab_type": "text",
        "id": "HNwIrq67epWM"
      },
      "source": [
        "Explore `Age` and `Fare` transformations"
      ]
    },
    {
      "cell_type": "code",
      "metadata": {
        "colab_type": "code",
        "id": "3rU-IDxEeS3y",
        "colab": {}
      },
      "source": [
        "from sklearn.preprocessing import OneHotEncoder, StandardScaler, FunctionTransformer, KBinsDiscretizer, QuantileTransformer"
      ],
      "execution_count": 11,
      "outputs": []
    },
    {
      "cell_type": "code",
      "metadata": {
        "colab_type": "code",
        "id": "2fVtsxP_gB_M",
        "colab": {
          "base_uri": "https://localhost:8080/",
          "height": 281
        },
        "outputId": "244e78d7-be70-4885-deef-7cb8a14364fd"
      },
      "source": [
        "df1['Age'].plot.hist(bins=30, title='Age Distribution');"
      ],
      "execution_count": 12,
      "outputs": [
        {
          "output_type": "display_data",
          "data": {
            "image/png": "[encoded data removed]",
            "text/plain": [
              "<Figure size 432x288 with 1 Axes>"
            ]
          },
          "metadata": {
            "tags": [],
            "needs_background": "light"
          }
        }
      ]
    },
    {
      "cell_type": "code",
      "metadata": {
        "colab_type": "code",
        "id": "3cmH0hXsgB8F",
        "colab": {}
      },
      "source": [
        "scaled_age = StandardScaler().fit_transform(df1[['Age']])"
      ],
      "execution_count": 13,
      "outputs": []
    },
    {
      "cell_type": "code",
      "metadata": {
        "colab_type": "code",
        "id": "_I431VGRgB5F",
        "colab": {
          "base_uri": "https://localhost:8080/",
          "height": 281
        },
        "outputId": "bef4dd5e-dac0-448a-de3c-04302d6bc43f"
      },
      "source": [
        "plt.hist(scaled_age, bins=30)\n",
        "plt.title('Scaled Age Distribution');"
      ],
      "execution_count": 14,
      "outputs": [
        {
          "output_type": "display_data",
          "data": {
            "image/png": "[encoded data removed]",
            "text/plain": [
              "<Figure size 432x288 with 1 Axes>"
            ]
          },
          "metadata": {
            "tags": [],
            "needs_background": "light"
          }
        }
      ]
    },
    {
      "cell_type": "code",
      "metadata": {
        "colab_type": "code",
        "id": "dQ4ofYrIgBjq",
        "colab": {
          "base_uri": "https://localhost:8080/",
          "height": 141
        },
        "outputId": "46636326-30eb-4c59-c705-6e2c958595b1"
      },
      "source": [
        "kbd = KBinsDiscretizer(n_bins=7, encode='onehot-dense')\n",
        "\n",
        "age_discretized = kbd.fit_transform(df1[['Age']])\n",
        "\n",
        "age_discretized"
      ],
      "execution_count": 15,
      "outputs": [
        {
          "output_type": "execute_result",
          "data": {
            "text/plain": [
              "array([[0., 1., 0., ..., 0., 0., 0.],\n",
              "       [0., 0., 0., ..., 0., 1., 0.],\n",
              "       [0., 0., 1., ..., 0., 0., 0.],\n",
              "       ...,\n",
              "       [0., 0., 0., ..., 1., 0., 0.],\n",
              "       [0., 0., 1., ..., 0., 0., 0.],\n",
              "       [0., 0., 0., ..., 1., 0., 0.]])"
            ]
          },
          "metadata": {
            "tags": []
          },
          "execution_count": 15
        }
      ]
    },
    {
      "cell_type": "code",
      "metadata": {
        "colab_type": "code",
        "id": "1FiWXX5VhEeJ",
        "colab": {
          "base_uri": "https://localhost:8080/",
          "height": 52
        },
        "outputId": "295a4ce0-83b8-4953-b03e-ad13afb51599"
      },
      "source": [
        "kbd.bin_edges_"
      ],
      "execution_count": 16,
      "outputs": [
        {
          "output_type": "execute_result",
          "data": {
            "text/plain": [
              "array([array([ 0.42     , 18.       , 24.       , 29.       , 29.6420927,\n",
              "       33.       , 43.       , 80.       ])], dtype=object)"
            ]
          },
          "metadata": {
            "tags": []
          },
          "execution_count": 16
        }
      ]
    },
    {
      "cell_type": "code",
      "metadata": {
        "colab_type": "code",
        "id": "elcgp5Dle6f9",
        "colab": {
          "base_uri": "https://localhost:8080/",
          "height": 158
        },
        "outputId": "b5126423-1dfa-4838-97bb-1f4b77ccb616"
      },
      "source": [
        "pd.Series(age_discretized.argmax(axis=1)).value_counts(sort=False)"
      ],
      "execution_count": 17,
      "outputs": [
        {
          "output_type": "execute_result",
          "data": {
            "text/plain": [
              "0    113\n",
              "1    134\n",
              "2    117\n",
              "3     20\n",
              "4    241\n",
              "5    136\n",
              "6    128\n",
              "dtype: int64"
            ]
          },
          "metadata": {
            "tags": []
          },
          "execution_count": 17
        }
      ]
    },
    {
      "cell_type": "code",
      "metadata": {
        "colab_type": "code",
        "id": "5GjHi0K_hET7",
        "colab": {
          "base_uri": "https://localhost:8080/",
          "height": 281
        },
        "outputId": "07827177-9636-4d41-a459-752ad44b7bb6"
      },
      "source": [
        "df1['Fare'].plot.hist(bins=30, title='Fare Distribution');"
      ],
      "execution_count": 18,
      "outputs": [
        {
          "output_type": "display_data",
          "data": {
            "image/png": "[encoded data removed]",
            "text/plain": [
              "<Figure size 432x288 with 1 Axes>"
            ]
          },
          "metadata": {
            "tags": [],
            "needs_background": "light"
          }
        }
      ]
    },
    {
      "cell_type": "code",
      "metadata": {
        "colab_type": "code",
        "id": "aX-1Js-ZhswR",
        "colab": {}
      },
      "source": [
        "qt = QuantileTransformer(n_quantiles=100)\n",
        "\n",
        "scaled_fare = qt.fit_transform(df1[['Fare']])"
      ],
      "execution_count": 19,
      "outputs": []
    },
    {
      "cell_type": "code",
      "metadata": {
        "colab_type": "code",
        "id": "BYo3mIQAhspI",
        "colab": {
          "base_uri": "https://localhost:8080/",
          "height": 281
        },
        "outputId": "c9dfbfc7-8e98-4481-8ef1-5942648329e8"
      },
      "source": [
        "plt.hist(scaled_fare, bins=30)\n",
        "plt.title('Scaled Fare Distribution');"
      ],
      "execution_count": 20,
      "outputs": [
        {
          "output_type": "display_data",
          "data": {
            "image/png": "[encoded data removed]",
            "text/plain": [
              "<Figure size 432x288 with 1 Axes>"
            ]
          },
          "metadata": {
            "tags": [],
            "needs_background": "light"
          }
        }
      ]
    },
    {
      "cell_type": "code",
      "metadata": {
        "colab_type": "code",
        "id": "r5mIsRkrhsfb",
        "colab": {
          "base_uri": "https://localhost:8080/",
          "height": 264
        },
        "outputId": "12bf6e7c-9055-4182-d35a-04bacdbc0b31"
      },
      "source": [
        "plt.plot(qt.quantiles_);"
      ],
      "execution_count": 21,
      "outputs": [
        {
          "output_type": "display_data",
          "data": {
            "image/png": "[encoded data removed]",
            "text/plain": [
              "<Figure size 432x288 with 1 Axes>"
            ]
          },
          "metadata": {
            "tags": [],
            "needs_background": "light"
          }
        }
      ]
    },
    {
      "cell_type": "markdown",
      "metadata": {
        "colab_type": "text",
        "id": "ZMQDp9SehrGs"
      },
      "source": [
        "### Exercise 1\n",
        "- Create a label variable `y = df1['Survived']`\n",
        "- Create a variable `X` that only contains the following raw features: `['Pclass', 'Age', 'Fare', 'Parch', 'SibSp']`\n",
        "\n",
        "- Use the [`ColumnTransformer`](https://scikit-learn.org/stable/modules/generated/sklearn.compose.ColumnTransformer.html#sklearn.compose.ColumnTransformer) to perform all the following transformations at once on df1:\n",
        "  - Feature engineering:\n",
        "    - binarize Sex with `OneHotEncoder`\n",
        "    - One-hot encode Pclass and Embarked with `OneHotEncoder`\n",
        "    - Scale Age with `StandardScaler`\n",
        "    - Discretize Age with `KBinsDiscretizer` into 7 bins.\n",
        "    - Transform `Fare` with `QuantileTransformer` with 100 quantiles.\n",
        "    - Create boolean columns for `Parch` and `Sibsp` using `FunctionTransformer` (0 if 0, 1 if > 0)\n",
        "\n",
        "  - Also, use the `passthrough` option for:\n",
        "    - `Age`\n",
        "    - `SibSp`\n",
        "    - `Parch`\n",
        "\n",
        "- Create a new variable `X_new` with the transformed features.\n",
        "\n",
        "If you've done everything correctly you should have the following features:\n",
        "\n",
        "```python\n",
        "new_features = ['male',\n",
        "                'Pclass_1',\n",
        "                'Pclass_2',\n",
        "                'Pclass_3',\n",
        "                'Embarked_C',\n",
        "                'Embarked_Q',\n",
        "                'Embarked_S',\n",
        "                'Age_scaled',\n",
        "                'Age_bins_0',\n",
        "                'Age_bins_1',\n",
        "                'Age_bins_2',\n",
        "                'Age_bins_3',\n",
        "                'Age_bins_4',\n",
        "                'Age_bins_5',\n",
        "                'Age_bins_6',\n",
        "                'Fare_transformed',\n",
        "                'Parch_bool',\n",
        "                'SibSp_bool',\n",
        "                'Age',\n",
        "                'SibSp',\n",
        "                'Parch'\n",
        "                ]\n",
        "```"
      ]
    },
    {
      "cell_type": "code",
      "metadata": {
        "colab_type": "code",
        "id": "3HiKdIDUlA5J",
        "colab": {}
      },
      "source": [
        "from sklearn.compose import ColumnTransformer"
      ],
      "execution_count": 22,
      "outputs": []
    },
    {
      "cell_type": "code",
      "metadata": {
        "id": "_9NNDFKNBFI4",
        "colab_type": "code",
        "colab": {}
      },
      "source": [
        "features = ['Pclass', 'Age', 'Fare', 'Parch', 'SibSp']\n",
        "\n",
        "X = df1[features]\n",
        "y = df1['Survived']"
      ],
      "execution_count": 23,
      "outputs": []
    },
    {
      "cell_type": "code",
      "metadata": {
        "id": "xX_fASzDB6H6",
        "colab_type": "code",
        "colab": {}
      },
      "source": [
        "column_transformer = ColumnTransformer(\n",
        "    [('Male', OneHotEncoder(drop='first', dtype='int'), ['Sex']),\n",
        "     ('Pclass', OneHotEncoder(dtype='int'), ['Pclass']),\n",
        "     ('Embarked', OneHotEncoder(dtype='int'), ['Embarked']),\n",
        "     ('AgeScaled', StandardScaler(), ['Age']),\n",
        "     ('AgeDiscretized', KBinsDiscretizer(n_bins=7), ['Age']),\n",
        "     ('Fare', QuantileTransformer(n_quantiles=100), ['Fare']),\n",
        "     ('Parch_bool', FunctionTransformer(lambda x: x>0), ['Parch']),\n",
        "     ('SibSp_bool', FunctionTransformer(lambda x: x>0), ['SibSp']),\n",
        "     ('Age', 'passthrough', ['Age']),\n",
        "     ('SibSp', 'passthrough', ['SibSp']),\n",
        "     ('Parch', 'passthrough', ['Parch'])\n",
        "     ],\n",
        "    remainder='drop')"
      ],
      "execution_count": 24,
      "outputs": []
    },
    {
      "cell_type": "code",
      "metadata": {
        "id": "v8T05A9_B6Rj",
        "colab_type": "code",
        "colab": {
          "base_uri": "https://localhost:8080/",
          "height": 603
        },
        "outputId": "78a72bf2-d83e-4532-9d43-8fe5e93c2dcd"
      },
      "source": [
        "column_transformer.fit(df1)"
      ],
      "execution_count": 25,
      "outputs": [
        {
          "output_type": "execute_result",
          "data": {
            "text/plain": [
              "ColumnTransformer(n_jobs=None, remainder='drop', sparse_threshold=0.3,\n",
              "                  transformer_weights=None,\n",
              "                  transformers=[('Male',\n",
              "                                 OneHotEncoder(categories='auto', drop='first',\n",
              "                                               dtype='int',\n",
              "                                               handle_unknown='error',\n",
              "                                               sparse=True),\n",
              "                                 ['Sex']),\n",
              "                                ('Pclass',\n",
              "                                 OneHotEncoder(categories='auto', drop=None,\n",
              "                                               dtype='int',\n",
              "                                               handle_unknown='error',\n",
              "                                               sparse=True),\n",
              "                                 ['Pclass']),\n",
              "                                ('Embarked',\n",
              "                                 OneHotEnc...\n",
              "                                                     inverse_func=None,\n",
              "                                                     kw_args=None,\n",
              "                                                     validate=False),\n",
              "                                 ['Parch']),\n",
              "                                ('SibSp_bool',\n",
              "                                 FunctionTransformer(accept_sparse=False,\n",
              "                                                     check_inverse=True,\n",
              "                                                     func=<function <lambda> at 0x7f4efe155268>,\n",
              "                                                     inv_kw_args=None,\n",
              "                                                     inverse_func=None,\n",
              "                                                     kw_args=None,\n",
              "                                                     validate=False),\n",
              "                                 ['SibSp']),\n",
              "                                ('Age', 'passthrough', ['Age']),\n",
              "                                ('SibSp', 'passthrough', ['SibSp']),\n",
              "                                ('Parch', 'passthrough', ['Parch'])],\n",
              "                  verbose=False)"
            ]
          },
          "metadata": {
            "tags": []
          },
          "execution_count": 25
        }
      ]
    },
    {
      "cell_type": "code",
      "metadata": {
        "id": "7-ZAMi5xB6dA",
        "colab_type": "code",
        "colab": {}
      },
      "source": [
        "\n",
        "X_new = column_transformer.transform(df1)"
      ],
      "execution_count": 26,
      "outputs": []
    },
    {
      "cell_type": "code",
      "metadata": {
        "id": "A5lm_rn-CE6O",
        "colab_type": "code",
        "colab": {
          "base_uri": "https://localhost:8080/",
          "height": 34
        },
        "outputId": "925db2bd-7aa1-4126-f877-da2e7f7630be"
      },
      "source": [
        "new_features = ['male',\n",
        "                'Pclass_1',\n",
        "                'Pclass_2',\n",
        "                'Pclass_3',\n",
        "                'Embarked_C',\n",
        "                'Embarked_Q',\n",
        "                'Embarked_S',\n",
        "                'Age_scaled',\n",
        "                'Age_bins_0',\n",
        "                'Age_bins_1',\n",
        "                'Age_bins_2',\n",
        "                'Age_bins_3',\n",
        "                'Age_bins_4',\n",
        "                'Age_bins_5',\n",
        "                'Age_bins_6',\n",
        "                'Fare_transformed',\n",
        "                'Parch_bool',\n",
        "                'SibSp_bool',\n",
        "                'Age',\n",
        "                'SibSp',\n",
        "                'Parch'\n",
        "                ]\n",
        "len(new_features)"
      ],
      "execution_count": 28,
      "outputs": [
        {
          "output_type": "execute_result",
          "data": {
            "text/plain": [
              "21"
            ]
          },
          "metadata": {
            "tags": []
          },
          "execution_count": 28
        }
      ]
    },
    {
      "cell_type": "markdown",
      "metadata": {
        "colab_type": "text",
        "id": "PJPTr_VLv5u6"
      },
      "source": [
        "### Exercise 2\n",
        "\n",
        "- Train a `DecisionTreeClassifier` on `X` and `X_new` and compare their performance. For this exercise we will not perform a train/test split and just evaluate the performance on the whole dataset\n",
        "- Compare the feature importances for the 2 models using the `model.feature_importances_` calculated attribute.\n",
        "- Bonus points if you plot the features importances with a bar chart\n",
        "- Which model is performing better?"
      ]
    },
    {
      "cell_type": "code",
      "metadata": {
        "id": "5AKm8phaBFJA",
        "colab_type": "code",
        "colab": {}
      },
      "source": [
        "from sklearn.tree import DecisionTreeClassifier"
      ],
      "execution_count": 29,
      "outputs": []
    },
    {
      "cell_type": "code",
      "metadata": {
        "id": "KPrfXSGPCfL_",
        "colab_type": "code",
        "colab": {}
      },
      "source": [
        "model = DecisionTreeClassifier()"
      ],
      "execution_count": 30,
      "outputs": []
    },
    {
      "cell_type": "code",
      "metadata": {
        "id": "WDW24mhVCfRp",
        "colab_type": "code",
        "colab": {
          "base_uri": "https://localhost:8080/",
          "height": 52
        },
        "outputId": "cb6b54d8-a88e-4e39-bb22-b999dc4858ac"
      },
      "source": [
        "\n",
        "model.fit(X, y)\n",
        "raw_score = model.score(X, y)\n",
        "\n",
        "print(\"Raw features: \", features)\n",
        "print(\"Score: {:0.3}\".format(raw_score))"
      ],
      "execution_count": 31,
      "outputs": [
        {
          "output_type": "stream",
          "text": [
            "Raw features:  ['Pclass', 'Age', 'Fare', 'Parch', 'SibSp']\n",
            "Score: 0.957\n"
          ],
          "name": "stdout"
        }
      ]
    },
    {
      "cell_type": "code",
      "metadata": {
        "id": "YwtP6HSiCfnn",
        "colab_type": "code",
        "colab": {
          "base_uri": "https://localhost:8080/",
          "height": 34
        },
        "outputId": "99f3114f-c4f0-499d-f798-13863feacf50"
      },
      "source": [
        "feature_impo = model.feature_importances_\n",
        "feature_impo"
      ],
      "execution_count": 33,
      "outputs": [
        {
          "output_type": "execute_result",
          "data": {
            "text/plain": [
              "array([0.12487354, 0.41010308, 0.35769759, 0.0401495 , 0.06717629])"
            ]
          },
          "metadata": {
            "tags": []
          },
          "execution_count": 33
        }
      ]
    },
    {
      "cell_type": "code",
      "metadata": {
        "id": "HW28sqOKCfa4",
        "colab_type": "code",
        "colab": {
          "base_uri": "https://localhost:8080/",
          "height": 264
        },
        "outputId": "3244776a-80ec-414a-deed-08fdeedd89a0"
      },
      "source": [
        "pd.Series(feature_impo, index=features).sort_values().plot.barh();"
      ],
      "execution_count": 34,
      "outputs": [
        {
          "output_type": "display_data",
          "data": {
            "image/png": "[encoded data removed]",
            "text/plain": [
              "<Figure size 432x288 with 1 Axes>"
            ]
          },
          "metadata": {
            "tags": [],
            "needs_background": "light"
          }
        }
      ]
    },
    {
      "cell_type": "code",
      "metadata": {
        "id": "IrtV7gRICza7",
        "colab_type": "code",
        "colab": {}
      },
      "source": [
        "model_new = DecisionTreeClassifier()\n"
      ],
      "execution_count": 35,
      "outputs": []
    },
    {
      "cell_type": "code",
      "metadata": {
        "id": "o7DWlKbrCzkR",
        "colab_type": "code",
        "colab": {
          "base_uri": "https://localhost:8080/",
          "height": 72
        },
        "outputId": "b6a01183-223b-464a-d2f9-60255a15ad04"
      },
      "source": [
        "model_new.fit(X_new, y)\n",
        "new_score = model_new.score(X_new, y)\n",
        "\n",
        "print(\"Raw features: \", new_features)\n",
        "print(\"Score: {:0.3}\".format(new_score))"
      ],
      "execution_count": 36,
      "outputs": [
        {
          "output_type": "stream",
          "text": [
            "Raw features:  ['male', 'Pclass_1', 'Pclass_2', 'Pclass_3', 'Embarked_C', 'Embarked_Q', 'Embarked_S', 'Age_scaled', 'Age_bins_0', 'Age_bins_1', 'Age_bins_2', 'Age_bins_3', 'Age_bins_4', 'Age_bins_5', 'Age_bins_6', 'Fare_transformed', 'Parch_bool', 'SibSp_bool', 'Age', 'SibSp', 'Parch']\n",
            "Score: 0.982\n"
          ],
          "name": "stdout"
        }
      ]
    },
    {
      "cell_type": "code",
      "metadata": {
        "id": "zxkkJ5fuCzuK",
        "colab_type": "code",
        "colab": {
          "base_uri": "https://localhost:8080/",
          "height": 105
        },
        "outputId": "04d1a21c-0846-4315-de32-07b0be0a2240"
      },
      "source": [
        "\n",
        "new_feature_impo = model_new.feature_importances_\n",
        "new_feature_impo"
      ],
      "execution_count": 37,
      "outputs": [
        {
          "output_type": "execute_result",
          "data": {
            "text/plain": [
              "array([0.30738035, 0.03015534, 0.00195265, 0.07793059, 0.00521824,\n",
              "       0.00332738, 0.01399283, 0.10002832, 0.        , 0.00432559,\n",
              "       0.01225648, 0.01370653, 0.00696654, 0.00938702, 0.        ,\n",
              "       0.23429228, 0.        , 0.01216457, 0.10736604, 0.04358173,\n",
              "       0.01596753])"
            ]
          },
          "metadata": {
            "tags": []
          },
          "execution_count": 37
        }
      ]
    },
    {
      "cell_type": "code",
      "metadata": {
        "id": "roYnHcY6C8se",
        "colab_type": "code",
        "colab": {
          "base_uri": "https://localhost:8080/",
          "height": 264
        },
        "outputId": "d544b91b-ffd2-49a3-d13a-2028bb131bb4"
      },
      "source": [
        "pd.Series(new_feature_impo, index=new_features).sort_values().plot.barh();"
      ],
      "execution_count": 38,
      "outputs": [
        {
          "output_type": "display_data",
          "data": {
            "image/png": "[encoded data removed]",
            "text/plain": [
              "<Figure size 432x288 with 1 Axes>"
            ]
          },
          "metadata": {
            "tags": [],
            "needs_background": "light"
          }
        }
      ]
    },
    {
      "cell_type": "markdown",
      "metadata": {
        "colab_type": "text",
        "id": "BwjZWxdRxzM_"
      },
      "source": [
        "### Exercise 3: Feature Selection\n",
        "\n",
        "- Create a final model using the [`Recursive Feature Elimination`](https://scikit-learn.org/stable/modules/generated/sklearn.feature_selection.RFE.html) transformer and re-train it on `X_new`\n",
        "- Which features are retained?\n",
        "- Does the model performance drop by a lot?"
      ]
    },
    {
      "cell_type": "code",
      "metadata": {
        "id": "ppxKoD90BFJK",
        "colab_type": "code",
        "colab": {}
      },
      "source": [
        "from sklearn.feature_selection import RFE"
      ],
      "execution_count": 39,
      "outputs": []
    },
    {
      "cell_type": "code",
      "metadata": {
        "id": "tGbd0NudDC-Z",
        "colab_type": "code",
        "colab": {}
      },
      "source": [
        "model_final = RFE(DecisionTreeClassifier())"
      ],
      "execution_count": 40,
      "outputs": []
    },
    {
      "cell_type": "code",
      "metadata": {
        "id": "GZFJTtTCDDIU",
        "colab_type": "code",
        "colab": {
          "base_uri": "https://localhost:8080/",
          "height": 72
        },
        "outputId": "74f71f9e-27f1-480e-d208-78f2ce8c02c6"
      },
      "source": [
        "\n",
        "model_final.fit(X_new, y)\n",
        "final_score = model_final.score(X_new, y)\n",
        "\n",
        "print(\"Raw features: \", new_features)\n",
        "print(\"Score: {:0.3}\".format(final_score))"
      ],
      "execution_count": 41,
      "outputs": [
        {
          "output_type": "stream",
          "text": [
            "Raw features:  ['male', 'Pclass_1', 'Pclass_2', 'Pclass_3', 'Embarked_C', 'Embarked_Q', 'Embarked_S', 'Age_scaled', 'Age_bins_0', 'Age_bins_1', 'Age_bins_2', 'Age_bins_3', 'Age_bins_4', 'Age_bins_5', 'Age_bins_6', 'Fare_transformed', 'Parch_bool', 'SibSp_bool', 'Age', 'SibSp', 'Parch']\n",
            "Score: 0.982\n"
          ],
          "name": "stdout"
        }
      ]
    },
    {
      "cell_type": "code",
      "metadata": {
        "id": "eYSTVI2kDDZR",
        "colab_type": "code",
        "colab": {
          "base_uri": "https://localhost:8080/",
          "height": 34
        },
        "outputId": "7af6831c-8020-4075-b9e3-c56b85f5333d"
      },
      "source": [
        "\n",
        "model_final.n_features_"
      ],
      "execution_count": 42,
      "outputs": [
        {
          "output_type": "execute_result",
          "data": {
            "text/plain": [
              "10"
            ]
          },
          "metadata": {
            "tags": []
          },
          "execution_count": 42
        }
      ]
    },
    {
      "cell_type": "code",
      "metadata": {
        "id": "i6UR7eUyDMTy",
        "colab_type": "code",
        "colab": {
          "base_uri": "https://localhost:8080/",
          "height": 264
        },
        "outputId": "6b86e74a-cab5-4bd4-f673-5a750700c5aa"
      },
      "source": [
        "\n",
        "selected_features = np.array(new_features)[model_final.support_]\n",
        "final_features_impo = model_final.estimator_.feature_importances_\n",
        "\n",
        "pd.Series(final_features_impo,\n",
        "          index=selected_features\n",
        "          ).sort_values().plot.barh();"
      ],
      "execution_count": 43,
      "outputs": [
        {
          "output_type": "display_data",
          "data": {
            "image/png": "[encoded data removed]",
            "text/plain": [
              "<Figure size 432x288 with 1 Axes>"
            ]
          },
          "metadata": {
            "tags": [],
            "needs_background": "light"
          }
        }
      ]
    }
  ]
}